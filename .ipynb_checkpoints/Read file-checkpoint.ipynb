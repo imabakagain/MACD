{
 "cells": [
  {
   "cell_type": "code",
   "execution_count": 4,
   "metadata": {},
   "outputs": [],
   "source": [
    "import pandas as pd\n",
    "import tushare as ts\n",
    "pro = ts.pro_api()\n",
    "\n",
    "weekly_selected = pd.read_csv (r'data\\june4 weekly.csv')\n",
    "stock_list = weekly_selected[['code']]\n",
    "def weekly_earn(code,st_date,En_date):\n",
    "    df = pro.weekly(ts_code = code, adj = 'qfq', start_date = st_date, end_date = En_date)\n",
    "    earn = (df.close / df.open - 1)*100\n",
    "    return earn"
   ]
  },
  {
   "cell_type": "code",
   "execution_count": 6,
   "metadata": {},
   "outputs": [
    {
     "name": "stdout",
     "output_type": "stream",
     "text": [
      "10.656270305393111\n",
      "-2.034883720930225\n",
      "1.4999999999999902\n",
      "-0.39486673247779436\n",
      "-0.46948356807512415\n",
      "-1.1627906976744096\n",
      "-1.4173998044965774\n",
      "-0.73260073260073\n",
      "-4.23728813559322\n",
      "2.577319587628879\n",
      "7.575757575757569\n",
      "-6.64183736809435\n",
      "-4.927133934767525\n",
      "0.7843137254901933\n",
      "-1.406469760900153\n",
      "-4.040404040404033\n",
      "-3.682719546742219\n",
      "6.076810889645112\n",
      "-3.1132581857219455\n",
      "11.495327102803742\n",
      "-0.932129332944942\n",
      "1.2031139419674375\n",
      "3.186022610483019\n",
      "10.591722722608598\n",
      "-8.457711442786076\n",
      "4.7741935483870845\n",
      "2.5839793281653867\n",
      "-1.8331805682859748\n",
      "9.7528517110266\n",
      "0.7808433107756363\n",
      "6.189320388349517\n",
      "-1.1451562983596397\n",
      "-18.638297872340427\n",
      "-0.4155844155844024\n",
      "7.540675844806\n",
      "-2.089072543618009\n",
      "5.781249999999982\n",
      "-7.459016393442619\n",
      "-8.072916666666675\n",
      "-0.03361344537815558\n",
      "-11.724137931034473\n",
      "-2.157303370786523\n",
      "3.382845188284511\n",
      "-1.8626929217668842\n",
      "-1.3934183219685758\n",
      "-11.69060216679264\n",
      "9.424083769633484\n",
      "3.7024901703800683\n",
      "7.776470588235296\n",
      "4.596273291925468\n"
     ]
    },
    {
     "ename": "IndexError",
     "evalue": "index 0 is out of bounds for axis 0 with size 0",
     "output_type": "error",
     "traceback": [
      "\u001b[1;31m---------------------------------------------------------------------------\u001b[0m",
      "\u001b[1;31mIndexError\u001b[0m                                Traceback (most recent call last)",
      "\u001b[1;32m<ipython-input-6-2f99bd5b7a4f>\u001b[0m in \u001b[0;36m<module>\u001b[1;34m()\u001b[0m\n\u001b[0;32m      2\u001b[0m \u001b[1;32mfor\u001b[0m \u001b[0mcode_r\u001b[0m \u001b[1;32min\u001b[0m \u001b[0mstock_list\u001b[0m\u001b[1;33m.\u001b[0m\u001b[0mvalues\u001b[0m\u001b[1;33m:\u001b[0m\u001b[1;33m\u001b[0m\u001b[1;33m\u001b[0m\u001b[0m\n\u001b[0;32m      3\u001b[0m     \u001b[0mearn\u001b[0m \u001b[1;33m=\u001b[0m \u001b[0mweekly_earn\u001b[0m\u001b[1;33m(\u001b[0m\u001b[0mcode_r\u001b[0m\u001b[1;33m[\u001b[0m\u001b[1;36m0\u001b[0m\u001b[1;33m]\u001b[0m\u001b[1;33m,\u001b[0m \u001b[1;34m'20210614'\u001b[0m\u001b[1;33m,\u001b[0m \u001b[1;34m'20210618'\u001b[0m\u001b[1;33m)\u001b[0m\u001b[1;33m\u001b[0m\u001b[1;33m\u001b[0m\u001b[0m\n\u001b[1;32m----> 4\u001b[1;33m     \u001b[0mprint\u001b[0m\u001b[1;33m(\u001b[0m\u001b[0mearn\u001b[0m\u001b[1;33m[\u001b[0m\u001b[1;36m0\u001b[0m\u001b[1;33m]\u001b[0m\u001b[1;33m)\u001b[0m\u001b[1;33m\u001b[0m\u001b[1;33m\u001b[0m\u001b[0m\n\u001b[0m\u001b[0;32m      5\u001b[0m     \u001b[1;31m#weekly_selected.incert(row,'earn_nextweek',earn[0])\u001b[0m\u001b[1;33m\u001b[0m\u001b[1;33m\u001b[0m\u001b[1;33m\u001b[0m\u001b[0m\n\u001b[0;32m      6\u001b[0m     \u001b[1;31m#row += 1\u001b[0m\u001b[1;33m\u001b[0m\u001b[1;33m\u001b[0m\u001b[1;33m\u001b[0m\u001b[0m\n",
      "\u001b[1;32mC:\\Z\\General\\Anaconda3\\lib\\site-packages\\pandas\\core\\series.py\u001b[0m in \u001b[0;36m__getitem__\u001b[1;34m(self, key)\u001b[0m\n\u001b[0;32m    877\u001b[0m \u001b[1;33m\u001b[0m\u001b[0m\n\u001b[0;32m    878\u001b[0m         \u001b[1;32mif\u001b[0m \u001b[0mis_integer\u001b[0m\u001b[1;33m(\u001b[0m\u001b[0mkey\u001b[0m\u001b[1;33m)\u001b[0m \u001b[1;32mand\u001b[0m \u001b[0mself\u001b[0m\u001b[1;33m.\u001b[0m\u001b[0mindex\u001b[0m\u001b[1;33m.\u001b[0m\u001b[0m_should_fallback_to_positional\u001b[0m\u001b[1;33m(\u001b[0m\u001b[1;33m)\u001b[0m\u001b[1;33m:\u001b[0m\u001b[1;33m\u001b[0m\u001b[1;33m\u001b[0m\u001b[0m\n\u001b[1;32m--> 879\u001b[1;33m             \u001b[1;32mreturn\u001b[0m \u001b[0mself\u001b[0m\u001b[1;33m.\u001b[0m\u001b[0m_values\u001b[0m\u001b[1;33m[\u001b[0m\u001b[0mkey\u001b[0m\u001b[1;33m]\u001b[0m\u001b[1;33m\u001b[0m\u001b[1;33m\u001b[0m\u001b[0m\n\u001b[0m\u001b[0;32m    880\u001b[0m \u001b[1;33m\u001b[0m\u001b[0m\n\u001b[0;32m    881\u001b[0m         \u001b[1;32melif\u001b[0m \u001b[0mkey_is_scalar\u001b[0m\u001b[1;33m:\u001b[0m\u001b[1;33m\u001b[0m\u001b[1;33m\u001b[0m\u001b[0m\n",
      "\u001b[1;31mIndexError\u001b[0m: index 0 is out of bounds for axis 0 with size 0"
     ]
    }
   ],
   "source": [
    "row = 0\n",
    "for code_r in stock_list.values:           \n",
    "    earn = weekly_earn(code_r[0], '20210614', '20210618')\n",
    "    print(earn[0])\n",
    "    #weekly_selected.incert(row,'earn_nextweek',earn[0])\n",
    "    #row += 1\n",
    "    #time.sleep(0.3)"
   ]
  },
  {
   "cell_type": "code",
   "execution_count": 3,
   "metadata": {},
   "outputs": [
    {
     "name": "stdout",
     "output_type": "stream",
     "text": [
      "          code attitude reason  earn_nextweek\n",
      "0    000002.SZ      NaN    NaN      -0.824176\n",
      "1    000032.SZ      NaN    NaN            NaN\n",
      "2    000036.SZ      NaN    NaN            NaN\n",
      "3    000157.SZ      NaN    NaN            NaN\n",
      "4    000338.SZ      NaN    NaN            NaN\n",
      "..         ...      ...    ...            ...\n",
      "147  300967.SZ        x    new            NaN\n",
      "148  300977.SZ        x    new            NaN\n",
      "149  300979.SZ        x    new            NaN\n",
      "150  300980.SZ        x    new            NaN\n",
      "151  300983.SZ        x    new            NaN\n",
      "\n",
      "[152 rows x 4 columns]\n"
     ]
    }
   ],
   "source": [
    "print(weekly_selected)"
   ]
  },
  {
   "cell_type": "code",
   "execution_count": 3,
   "metadata": {},
   "outputs": [
    {
     "data": {
      "text/plain": [
       "Index(['code', 'attitude', 'reason', 'earn_nextweek'], dtype='object')"
      ]
     },
     "execution_count": 3,
     "metadata": {},
     "output_type": "execute_result"
    }
   ],
   "source": [
    "weekly_selected.columns"
   ]
  },
  {
   "cell_type": "code",
   "execution_count": 8,
   "metadata": {},
   "outputs": [
    {
     "data": {
      "text/plain": [
       "-0.8241758241758212"
      ]
     },
     "execution_count": 8,
     "metadata": {},
     "output_type": "execute_result"
    }
   ],
   "source": [
    "earn[0]"
   ]
  },
  {
   "cell_type": "code",
   "execution_count": null,
   "metadata": {},
   "outputs": [],
   "source": []
  }
 ],
 "metadata": {
  "kernelspec": {
   "display_name": "Python 3",
   "language": "python",
   "name": "python3"
  },
  "language_info": {
   "codemirror_mode": {
    "name": "ipython",
    "version": 3
   },
   "file_extension": ".py",
   "mimetype": "text/x-python",
   "name": "python",
   "nbconvert_exporter": "python",
   "pygments_lexer": "ipython3",
   "version": "3.6.12"
  }
 },
 "nbformat": 4,
 "nbformat_minor": 4
}
