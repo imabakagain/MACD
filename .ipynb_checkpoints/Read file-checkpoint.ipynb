{
 "cells": [
  {
   "cell_type": "code",
   "execution_count": null,
   "metadata": {},
   "outputs": [],
   "source": [
    "import pandas as pd\n",
    "import tushare as ts\n",
    "pro = ts.pro_api()\n",
    "\n",
    "weekly_selected = pd.read_csv (r'data\\may28 weekly macd.csv')\n",
    "stock_list = weekly_selected[['code']]\n",
    "def weekly_earn(code,st_date,En_date):\n",
    "    df = pro.weekly(ts_code = code, adj = 'qfq', start_date = st_date, end_date = En_date)\n",
    "    earn = (df.close / df.open - 1)*100\n",
    "    weekly_selected['earn_nextweek'] = earn"
   ]
  },
  {
   "cell_type": "code",
   "execution_count": null,
   "metadata": {},
   "outputs": [],
   "source": []
  }
 ],
 "metadata": {
  "kernelspec": {
   "display_name": "Python 3",
   "language": "python",
   "name": "python3"
  },
  "language_info": {
   "codemirror_mode": {
    "name": "ipython",
    "version": 3
   },
   "file_extension": ".py",
   "mimetype": "text/x-python",
   "name": "python",
   "nbconvert_exporter": "python",
   "pygments_lexer": "ipython3",
   "version": "3.6.12"
  }
 },
 "nbformat": 4,
 "nbformat_minor": 4
}
