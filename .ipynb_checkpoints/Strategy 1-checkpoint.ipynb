{
 "cells": [
  {
   "cell_type": "code",
   "execution_count": 6,
   "metadata": {},
   "outputs": [
    {
     "name": "stdout",
     "output_type": "stream",
     "text": [
      "date: 20200206 price: 23.49\n",
      "date: 20200402 price: 34.14\n",
      "date: 20200601 price: 29.28\n",
      "date: 20200728 price: 28.29\n",
      "date: 20201214 price: 23.41\n",
      "date: 20210203 price: 18.84\n",
      "date: 20210511 price: 17.32\n",
      "value: 1101232.5353795507\n"
     ]
    },
    {
     "name": "stderr",
     "output_type": "stream",
     "text": [
      "C:\\Z\\General\\Anaconda3\\lib\\site-packages\\ipykernel_launcher.py:40: RuntimeWarning: divide by zero encountered in double_scalars\n"
     ]
    }
   ],
   "source": [
    "import tushare as ts\n",
    "import matplotlib.pyplot as plt\n",
    "import numpy as np"
   ]
  },
  {
   "cell_type": "code",
   "execution_count": null,
   "metadata": {},
   "outputs": [],
   "source": [
    "pro = ts.pro_api()\n",
    "df = pro.daily(ts_code = '600498.SH', adj = 'qfq', start_date = '20200101', end_date = '20210514')\n",
    "df_close = df[['trade_date','close']]\n",
    "df_close = df_close.loc[::-1].reset_index(drop = True)\n",
    "df_close.columns=['ds','y']\n",
    "\n",
    "exp1 = df_close.y.ewm(span=12, adjust=False).mean()\n",
    "exp2 = df_close.y.ewm(span=26, adjust=False).mean()\n",
    "\n",
    "dif = exp1-exp2\n",
    "dea = dif.ewm(span=9, adjust=False).mean()\n",
    "macd = (dif-dea) * 2\n",
    "macd_abs = abs(macd)\n",
    "mean = np.mean(macd_abs)\n",
    "for macd_t in macd: \n",
    "    if (macd_t == 0):\n",
    "        macd_t = 0.01\n",
    "        \n",
    "#Account initial total 1,000,000\n",
    "data = {'share': 0, 'Ac': 1000000, 'date': 0}\n",
    "\n",
    "def Buy(data):\n",
    "    if (data['Ac'] > 0):\n",
    "        date = data['date']\n",
    "        data['share'] += data['Ac'] / df_close.y[date]\n",
    "        data['Ac'] = 0\n",
    "        print('date:',df_close.ds[date],'price:',df_close.y[date])\n",
    "\n",
    "def Sell(data):\n",
    "    if (data['share'] > 0):\n",
    "        date = data['date']\n",
    "        data['Ac'] += data['share'] * df_close.y[date]\n",
    "        data['share'] = 0\n",
    "def Trade():\n",
    "    for t in range(1, len(macd)):\n",
    "        ratio = macd[t]/macd[t-1]\n",
    "        if (ratio >0 and ratio <1):\n",
    "            if macd[t] < -0.5 * mean:\n",
    "                data['date'] = t\n",
    "                Buy(data)\n",
    "            if macd[t] > 0.5 * mean:\n",
    "                data['date'] = t\n",
    "                Sell(data)\n",
    "Trade()\n",
    "value = data['Ac']+ data['share'] * df_close.y[data['date']]\n",
    "print('value:',value)"
   ]
  }
 ],
 "metadata": {
  "kernelspec": {
   "display_name": "Python 3",
   "language": "python",
   "name": "python3"
  },
  "language_info": {
   "codemirror_mode": {
    "name": "ipython",
    "version": 3
   },
   "file_extension": ".py",
   "mimetype": "text/x-python",
   "name": "python",
   "nbconvert_exporter": "python",
   "pygments_lexer": "ipython3",
   "version": "3.6.12"
  }
 },
 "nbformat": 4,
 "nbformat_minor": 4
}
