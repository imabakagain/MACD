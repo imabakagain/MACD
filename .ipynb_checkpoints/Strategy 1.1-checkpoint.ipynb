{
 "cells": [
  {
   "cell_type": "code",
   "execution_count": 1,
   "metadata": {},
   "outputs": [],
   "source": [
    "import tushare as ts\n",
    "import matplotlib.pyplot as plt\n",
    "import numpy as np\n",
    "pro = ts.pro_api()"
   ]
  },
  {
   "cell_type": "code",
   "execution_count": null,
   "metadata": {},
   "outputs": [],
   "source": [
    "def stock(code,st_date,En_date):\n",
    "    def Buy(data):\n",
    "        if (data['Ac'] > 0):\n",
    "            date = data['date']\n",
    "            data['share'] += data['Ac']*0.9994 / df_close.y[date]\n",
    "            data['Ac'] = 0\n",
    "            print('date:',df_close.ds[date],'Buy @ price:',df_close.y[date])\n",
    "\n",
    "    def Sell(data):\n",
    "        if (data['share'] > 0):\n",
    "            date = data['date']\n",
    "            data['Ac'] += data['share']*0.9994 * df_close.y[date]\n",
    "            data['share'] = 0\n",
    "            print('date:',df_close.ds[date],'Sell @ price:',df_close.y[date])\n",
    "    def Trade():\n",
    "        for t in range(1, len(macd)):\n",
    "            ratio = macd[t]/macd[t-1]\n",
    "            if (ratio >0 and ratio <0.9):\n",
    "                if macd[t] < -0.5 * mean:\n",
    "                    data['date'] = t\n",
    "                    Buy(data)\n",
    "                if macd[t] > 0.5 * mean:\n",
    "                    data['date'] = t\n",
    "                    Sell(data)\n",
    "    #Get stock info\n",
    "    df = ts.pro_bar(ts_code = code, adj = 'qfq', start_date = st_date, end_date = En_date)\n",
    "    df_close = df[['trade_date','close']]\n",
    "    df_close = df_close.loc[::-1].reset_index(drop = True)\n",
    "    df_close.columns=['ds','y']\n",
    "#    plt.plot(df_close.ds, df_close.y)\n",
    "#    plt.show()\n",
    "\n",
    "    #MACD and processing\n",
    "    exp1 = df_close.y.ewm(span=12, adjust=False).mean()\n",
    "    exp2 = df_close.y.ewm(span=26, adjust=False).mean()\n",
    "\n",
    "    dif = exp1-exp2\n",
    "    dea = dif.ewm(span=9, adjust=False).mean()\n",
    "    macd = (dif-dea) * 2\n",
    "    macd_abs = abs(macd)\n",
    "    mean = np.mean(macd_abs)\n",
    "    for macd_t in macd: \n",
    "        if (macd_t == 0):\n",
    "            macd_t = 0.01\n",
    "    \n",
    "    #Account info\n",
    "    #Account initial total 1,000,000\n",
    "    data = {'share': 0, 'Ac': 1000000, 'date': 0}\n",
    "    \n",
    "    #Trade\n",
    "    Trade()\n",
    "    return data['Ac']+ data['share'] * df_close.y[data['date']]"
   ]
  }
 ],
 "metadata": {
  "kernelspec": {
   "display_name": "Python 3",
   "language": "python",
   "name": "python3"
  },
  "language_info": {
   "codemirror_mode": {
    "name": "ipython",
    "version": 3
   },
   "file_extension": ".py",
   "mimetype": "text/x-python",
   "name": "python",
   "nbconvert_exporter": "python",
   "pygments_lexer": "ipython3",
   "version": "3.6.12"
  }
 },
 "nbformat": 4,
 "nbformat_minor": 4
}
