{
 "cells": [
  {
   "cell_type": "code",
   "execution_count": 1,
   "metadata": {},
   "outputs": [],
   "source": [
    "import tushare as ts\n",
    "import matplotlib.pyplot as plt\n",
    "import numpy as np\n",
    "pro = ts.pro_api()\n",
    "df = pro.daily(ts_code = '600498.SH', adj = 'qfq', start_date = '20200101', end_date = '20210514')"
   ]
  },
  {
   "cell_type": "code",
   "execution_count": 2,
   "metadata": {},
   "outputs": [],
   "source": [
    "#needed for the first time\n",
    "#ts.set_token('a50e69dd53828f12d26e9ba76a512b4c996a4f295640adeb192f0ccb')"
   ]
  },
  {
   "cell_type": "code",
   "execution_count": 4,
   "metadata": {
    "collapsed": true
   },
   "outputs": [
    {
     "data": {
      "text/html": [
       "<div>\n",
       "<style scoped>\n",
       "    .dataframe tbody tr th:only-of-type {\n",
       "        vertical-align: middle;\n",
       "    }\n",
       "\n",
       "    .dataframe tbody tr th {\n",
       "        vertical-align: top;\n",
       "    }\n",
       "\n",
       "    .dataframe thead th {\n",
       "        text-align: right;\n",
       "    }\n",
       "</style>\n",
       "<table border=\"1\" class=\"dataframe\">\n",
       "  <thead>\n",
       "    <tr style=\"text-align: right;\">\n",
       "      <th></th>\n",
       "      <th>ts_code</th>\n",
       "      <th>trade_date</th>\n",
       "      <th>open</th>\n",
       "      <th>high</th>\n",
       "      <th>low</th>\n",
       "      <th>close</th>\n",
       "      <th>pre_close</th>\n",
       "      <th>change</th>\n",
       "      <th>pct_chg</th>\n",
       "      <th>vol</th>\n",
       "      <th>amount</th>\n",
       "    </tr>\n",
       "  </thead>\n",
       "  <tbody>\n",
       "    <tr>\n",
       "      <th>0</th>\n",
       "      <td>600498.SH</td>\n",
       "      <td>20210514</td>\n",
       "      <td>17.30</td>\n",
       "      <td>17.52</td>\n",
       "      <td>17.24</td>\n",
       "      <td>17.48</td>\n",
       "      <td>17.28</td>\n",
       "      <td>0.20</td>\n",
       "      <td>1.1574</td>\n",
       "      <td>49373.61</td>\n",
       "      <td>85986.722</td>\n",
       "    </tr>\n",
       "    <tr>\n",
       "      <th>1</th>\n",
       "      <td>600498.SH</td>\n",
       "      <td>20210513</td>\n",
       "      <td>17.17</td>\n",
       "      <td>17.56</td>\n",
       "      <td>17.17</td>\n",
       "      <td>17.28</td>\n",
       "      <td>17.36</td>\n",
       "      <td>-0.08</td>\n",
       "      <td>-0.4608</td>\n",
       "      <td>49979.93</td>\n",
       "      <td>86947.863</td>\n",
       "    </tr>\n",
       "    <tr>\n",
       "      <th>2</th>\n",
       "      <td>600498.SH</td>\n",
       "      <td>20210512</td>\n",
       "      <td>17.23</td>\n",
       "      <td>17.38</td>\n",
       "      <td>17.14</td>\n",
       "      <td>17.36</td>\n",
       "      <td>17.32</td>\n",
       "      <td>0.04</td>\n",
       "      <td>0.2309</td>\n",
       "      <td>43277.54</td>\n",
       "      <td>74771.817</td>\n",
       "    </tr>\n",
       "    <tr>\n",
       "      <th>3</th>\n",
       "      <td>600498.SH</td>\n",
       "      <td>20210511</td>\n",
       "      <td>17.00</td>\n",
       "      <td>17.34</td>\n",
       "      <td>16.84</td>\n",
       "      <td>17.32</td>\n",
       "      <td>17.03</td>\n",
       "      <td>0.29</td>\n",
       "      <td>1.7029</td>\n",
       "      <td>68623.70</td>\n",
       "      <td>117295.938</td>\n",
       "    </tr>\n",
       "    <tr>\n",
       "      <th>4</th>\n",
       "      <td>600498.SH</td>\n",
       "      <td>20210510</td>\n",
       "      <td>17.44</td>\n",
       "      <td>17.44</td>\n",
       "      <td>17.00</td>\n",
       "      <td>17.03</td>\n",
       "      <td>17.44</td>\n",
       "      <td>-0.41</td>\n",
       "      <td>-2.3509</td>\n",
       "      <td>85448.57</td>\n",
       "      <td>146163.843</td>\n",
       "    </tr>\n",
       "  </tbody>\n",
       "</table>\n",
       "</div>"
      ],
      "text/plain": [
       "     ts_code trade_date   open   high    low  close  pre_close  change  \\\n",
       "0  600498.SH   20210514  17.30  17.52  17.24  17.48      17.28    0.20   \n",
       "1  600498.SH   20210513  17.17  17.56  17.17  17.28      17.36   -0.08   \n",
       "2  600498.SH   20210512  17.23  17.38  17.14  17.36      17.32    0.04   \n",
       "3  600498.SH   20210511  17.00  17.34  16.84  17.32      17.03    0.29   \n",
       "4  600498.SH   20210510  17.44  17.44  17.00  17.03      17.44   -0.41   \n",
       "\n",
       "   pct_chg       vol      amount  \n",
       "0   1.1574  49373.61   85986.722  \n",
       "1  -0.4608  49979.93   86947.863  \n",
       "2   0.2309  43277.54   74771.817  \n",
       "3   1.7029  68623.70  117295.938  \n",
       "4  -2.3509  85448.57  146163.843  "
      ]
     },
     "execution_count": 4,
     "metadata": {},
     "output_type": "execute_result"
    }
   ],
   "source": [
    "df.head()"
   ]
  },
  {
   "cell_type": "markdown",
   "metadata": {},
   "source": [
    "## MACD\n",
    "\n",
    "1.Calculate a 12-period EMA of the price for the chosen time period.\n",
    "\n",
    "2.Calculate a 26-period EMA of the price for the chosen time period.\n",
    "\n",
    "3.Subtract the 26-period EMA from the 12-period EMA.\n",
    "\n",
    "4.Calculate a nine-period EMA of the result obtained from step 3."
   ]
  },
  {
   "cell_type": "code",
   "execution_count": 6,
   "metadata": {
    "collapsed": true
   },
   "outputs": [
    {
     "data": {
      "text/plain": [
       "ts_code        object\n",
       "trade_date     object\n",
       "open          float64\n",
       "high          float64\n",
       "low           float64\n",
       "close         float64\n",
       "pre_close     float64\n",
       "change        float64\n",
       "pct_chg       float64\n",
       "vol           float64\n",
       "amount        float64\n",
       "dtype: object"
      ]
     },
     "execution_count": 6,
     "metadata": {},
     "output_type": "execute_result"
    }
   ],
   "source": [
    "df.dtypes"
   ]
  },
  {
   "cell_type": "code",
   "execution_count": 2,
   "metadata": {},
   "outputs": [
    {
     "data": {
      "text/html": [
       "<div>\n",
       "<style scoped>\n",
       "    .dataframe tbody tr th:only-of-type {\n",
       "        vertical-align: middle;\n",
       "    }\n",
       "\n",
       "    .dataframe tbody tr th {\n",
       "        vertical-align: top;\n",
       "    }\n",
       "\n",
       "    .dataframe thead th {\n",
       "        text-align: right;\n",
       "    }\n",
       "</style>\n",
       "<table border=\"1\" class=\"dataframe\">\n",
       "  <thead>\n",
       "    <tr style=\"text-align: right;\">\n",
       "      <th></th>\n",
       "      <th>trade_date</th>\n",
       "      <th>close</th>\n",
       "    </tr>\n",
       "  </thead>\n",
       "  <tbody>\n",
       "    <tr>\n",
       "      <th>0</th>\n",
       "      <td>20210514</td>\n",
       "      <td>17.48</td>\n",
       "    </tr>\n",
       "    <tr>\n",
       "      <th>1</th>\n",
       "      <td>20210513</td>\n",
       "      <td>17.28</td>\n",
       "    </tr>\n",
       "    <tr>\n",
       "      <th>2</th>\n",
       "      <td>20210512</td>\n",
       "      <td>17.36</td>\n",
       "    </tr>\n",
       "    <tr>\n",
       "      <th>3</th>\n",
       "      <td>20210511</td>\n",
       "      <td>17.32</td>\n",
       "    </tr>\n",
       "    <tr>\n",
       "      <th>4</th>\n",
       "      <td>20210510</td>\n",
       "      <td>17.03</td>\n",
       "    </tr>\n",
       "  </tbody>\n",
       "</table>\n",
       "</div>"
      ],
      "text/plain": [
       "  trade_date  close\n",
       "0   20210514  17.48\n",
       "1   20210513  17.28\n",
       "2   20210512  17.36\n",
       "3   20210511  17.32\n",
       "4   20210510  17.03"
      ]
     },
     "execution_count": 2,
     "metadata": {},
     "output_type": "execute_result"
    }
   ],
   "source": [
    "df_close = df[['trade_date','close']]\n",
    "df_close.head()"
   ]
  },
  {
   "cell_type": "markdown",
   "metadata": {},
   "source": [
    "## reverse row order and reindex "
   ]
  },
  {
   "cell_type": "code",
   "execution_count": 3,
   "metadata": {},
   "outputs": [],
   "source": [
    "df_close = df_close.loc[::-1].reset_index(drop = True)"
   ]
  },
  {
   "cell_type": "code",
   "execution_count": 5,
   "metadata": {},
   "outputs": [
    {
     "data": {
      "text/html": [
       "<div>\n",
       "<style scoped>\n",
       "    .dataframe tbody tr th:only-of-type {\n",
       "        vertical-align: middle;\n",
       "    }\n",
       "\n",
       "    .dataframe tbody tr th {\n",
       "        vertical-align: top;\n",
       "    }\n",
       "\n",
       "    .dataframe thead th {\n",
       "        text-align: right;\n",
       "    }\n",
       "</style>\n",
       "<table border=\"1\" class=\"dataframe\">\n",
       "  <thead>\n",
       "    <tr style=\"text-align: right;\">\n",
       "      <th></th>\n",
       "      <th>trade_date</th>\n",
       "      <th>close</th>\n",
       "    </tr>\n",
       "  </thead>\n",
       "  <tbody>\n",
       "    <tr>\n",
       "      <th>0</th>\n",
       "      <td>20200102</td>\n",
       "      <td>27.64</td>\n",
       "    </tr>\n",
       "    <tr>\n",
       "      <th>1</th>\n",
       "      <td>20200103</td>\n",
       "      <td>27.91</td>\n",
       "    </tr>\n",
       "    <tr>\n",
       "      <th>2</th>\n",
       "      <td>20200106</td>\n",
       "      <td>27.74</td>\n",
       "    </tr>\n",
       "    <tr>\n",
       "      <th>3</th>\n",
       "      <td>20200107</td>\n",
       "      <td>27.56</td>\n",
       "    </tr>\n",
       "    <tr>\n",
       "      <th>4</th>\n",
       "      <td>20200108</td>\n",
       "      <td>26.78</td>\n",
       "    </tr>\n",
       "  </tbody>\n",
       "</table>\n",
       "</div>"
      ],
      "text/plain": [
       "  trade_date  close\n",
       "0   20200102  27.64\n",
       "1   20200103  27.91\n",
       "2   20200106  27.74\n",
       "3   20200107  27.56\n",
       "4   20200108  26.78"
      ]
     },
     "execution_count": 5,
     "metadata": {},
     "output_type": "execute_result"
    }
   ],
   "source": [
    "df_close.head()"
   ]
  },
  {
   "cell_type": "code",
   "execution_count": 4,
   "metadata": {},
   "outputs": [
    {
     "data": {
      "image/png": "[encoded data removed]",
      "text/plain": [
       "<Figure size 432x288 with 1 Axes>"
      ]
     },
     "metadata": {
      "needs_background": "light"
     },
     "output_type": "display_data"
    }
   ],
   "source": [
    "df_close.columns=['ds','y']\n",
    "plt.plot(df_close.ds, df_close.y)\n",
    "plt.show()"
   ]
  },
  {
   "cell_type": "code",
   "execution_count": 5,
   "metadata": {},
   "outputs": [
    {
     "data": {
      "image/png": "[encoded data removed]",
      "text/plain": [
       "<Figure size 432x288 with 1 Axes>"
      ]
     },
     "metadata": {
      "needs_background": "light"
     },
     "output_type": "display_data"
    }
   ],
   "source": [
    "exp1 = df_close.y.ewm(span=12, adjust=False).mean()\n",
    "exp2 = df_close.y.ewm(span=26, adjust=False).mean()\n",
    "\n",
    "dif = exp1-exp2\n",
    "dea = dif.ewm(span=9, adjust=False).mean()\n",
    "\n",
    "plt.plot(df_close.ds, dif, label='DIF', color = '#EBD2BE')\n",
    "plt.plot(df_close.ds, dea, label='DEA', color='#E5A4CB')\n",
    "plt.legend(loc='upper right')\n",
    "plt.show()"
   ]
  },
  {
   "cell_type": "code",
   "execution_count": 6,
   "metadata": {},
   "outputs": [
    {
     "data": {
      "text/plain": [
       "<BarContainer object of 329 artists>"
      ]
     },
     "execution_count": 6,
     "metadata": {},
     "output_type": "execute_result"
    },
    {
     "data": {
      "image/png": "[encoded data removed]",
      "text/plain": [
       "<Figure size 432x288 with 1 Axes>"
      ]
     },
     "metadata": {
      "needs_background": "light"
     },
     "output_type": "display_data"
    }
   ],
   "source": [
    "macd = (dif-dea) * 2\n",
    "plt.bar(df_close.ds, macd, label= 'MACD')"
   ]
  },
  {
   "cell_type": "code",
   "execution_count": 7,
   "metadata": {},
   "outputs": [],
   "source": [
    "macd_abs = abs(macd)\n",
    "mean = np.mean(macd_abs)"
   ]
  },
  {
   "cell_type": "code",
   "execution_count": 25,
   "metadata": {
    "collapsed": true
   },
   "outputs": [
    {
     "data": {
      "text/plain": [
       "0    0.000000\n",
       "1    0.034462\n",
       "2    0.032478\n",
       "3    0.006406\n",
       "4   -0.109995\n",
       "5   -0.078823\n",
       "6   -0.071483\n",
       "7    0.002385\n",
       "8    0.015795\n",
       "9    0.012269\n",
       "Name: y, dtype: float64"
      ]
     },
     "execution_count": 25,
     "metadata": {},
     "output_type": "execute_result"
    }
   ],
   "source": [
    "macd[0:10]"
   ]
  },
  {
   "cell_type": "code",
   "execution_count": 8,
   "metadata": {},
   "outputs": [],
   "source": [
    "for macd_t in macd: \n",
    "    if (macd_t == 0):\n",
    "        macd_t = 0.01"
   ]
  },
  {
   "cell_type": "markdown",
   "metadata": {},
   "source": [
    "## Make plot larger"
   ]
  },
  {
   "cell_type": "code",
   "execution_count": 9,
   "metadata": {},
   "outputs": [],
   "source": [
    "plt.rcParams['figure.figsize'] = [15, 10]"
   ]
  },
  {
   "cell_type": "markdown",
   "metadata": {},
   "source": [
    "## Strategy 1\n",
    "Buy: if MACD reached a local low and changed the trend\n",
    "\n",
    "Sell: if MACD reached a local high and changed the trend\n",
    "\n",
    "Principles:\n",
    "1.100% buy and sell\n",
    "2.sell at peak\n",
    "3.buy at trough\n",
    "\n",
    "Steps:\n",
    "1.Identifying local peaks or troughs real time\n",
    "a)\n",
    "same sign: Mt / Mt-1 > 0\n",
    "b)\n",
    "change trend:\n",
    "Mt / Mt-1 < 1\n",
    "c)\n",
    "\n",
    "Buy or Sell:\n",
    "\n",
    "buy if Mt < -0.5 mean:\n",
    "Func (Buy)\n",
    "\n",
    "Sell if Mt > 0.5 mean\n",
    "\n",
    "2.Trade\n",
    "1.Buy\n",
    "if have money, buy at current price\n",
    "\n",
    "2.Sell\n",
    "if have shares, sell at current price\n",
    "\n",
    "3.Loop\n"
   ]
  },
  {
   "cell_type": "code",
   "execution_count": 17,
   "metadata": {},
   "outputs": [
    {
     "name": "stdout",
     "output_type": "stream",
     "text": [
      "date: 20200206 price: 23.49\n",
      "date: 20200402 price: 34.14\n",
      "date: 20200601 price: 29.28\n",
      "date: 20200728 price: 28.29\n",
      "date: 20201214 price: 23.41\n",
      "date: 20210203 price: 18.84\n",
      "date: 20210511 price: 17.32\n",
      "value: 1101232.5353795507\n"
     ]
    },
    {
     "name": "stderr",
     "output_type": "stream",
     "text": [
      "C:\\Z\\General\\Anaconda3\\lib\\site-packages\\ipykernel_launcher.py:18: RuntimeWarning: divide by zero encountered in double_scalars\n"
     ]
    }
   ],
   "source": [
    "#Account initial total 1,000,000\n",
    "data = {'share': 0, 'Ac': 1000000, 'date': 0}\n",
    "\n",
    "def Buy(data):\n",
    "    if (data['Ac'] > 0):\n",
    "        date = data['date']\n",
    "        data['share'] += data['Ac'] / df_close.y[date]\n",
    "        data['Ac'] = 0\n",
    "        print('date:',df_close.ds[date],'price:',df_close.y[date])\n",
    "\n",
    "def Sell(data):\n",
    "    if (data['share'] > 0):\n",
    "        date = data['date']\n",
    "        data['Ac'] += data['share'] * df_close.y[date]\n",
    "        data['share'] = 0\n",
    "def Trade():\n",
    "    for t in range(1, len(macd)):\n",
    "        ratio = macd[t]/macd[t-1]\n",
    "        if (ratio >0 and ratio <1):\n",
    "            if macd[t] < -0.5 * mean:\n",
    "                data['date'] = t\n",
    "                Buy(data)\n",
    "            if macd[t] > 0.5 * mean:\n",
    "                data['date'] = t\n",
    "                Sell(data)\n",
    "Trade()\n",
    "value = data['Ac']+ data['share'] * df_close.y[data['date']]\n",
    "print('value:',value)"
   ]
  },
  {
   "cell_type": "code",
   "execution_count": 18,
   "metadata": {},
   "outputs": [
    {
     "data": {
      "text/plain": [
       "{'Ac': 0, 'date': 327, 'share': 63728.73468631658}"
      ]
     },
     "execution_count": 18,
     "metadata": {},
     "output_type": "execute_result"
    }
   ],
   "source": [
    "data"
   ]
  },
  {
   "cell_type": "code",
   "execution_count": null,
   "metadata": {},
   "outputs": [],
   "source": [
    "#Account initial total 1,000,000\n",
    "Ac = 1000000\n",
    "share = 0\n",
    "#flags: Local ;position; macd trend; trend days\n",
    "#Em = 0\n",
    "#Lo = 0\n",
    "#M_T = 0\n",
    "#T_D = 0\n",
    "\n",
    "\n",
    "while (!Em){\n",
    "#1.Identifying local peaks or troughs real time\n",
    "    if (macd <0){\n",
    "        T_D += 1\n",
    "        M_T = -1\n",
    "        if (macd2>macd1 and T_D >4 ){\n",
    "            #buy signal\n",
    "            Em = 1\n",
    "            break\n",
    "        }\n",
    "    }\n",
    "}\n",
    "\n",
    "while(Em){\n",
    "    if (macd >0){\n",
    "        T_D += 1\n",
    "        M_T = 1\n",
    "        if (macd2 < macd1 and T_D >4 ){\n",
    "            #Sell signal\n",
    "            Em = 0\n",
    "        }\n",
    "    }\n",
    "    \n",
    "}\n",
    "def Tran(){\n",
    "\n",
    "\n",
    "}\n",
    "\n",
    "#Return\n",
    "R = (Ac+ share* cur_pr) /1000000 - 1"
   ]
  },
  {
   "cell_type": "markdown",
   "metadata": {},
   "source": [
    "## Srategy 2"
   ]
  },
  {
   "cell_type": "code",
   "execution_count": null,
   "metadata": {},
   "outputs": [],
   "source": []
  }
 ],
 "metadata": {
  "kernelspec": {
   "display_name": "Python 3",
   "language": "python",
   "name": "python3"
  },
  "language_info": {
   "codemirror_mode": {
    "name": "ipython",
    "version": 3
   },
   "file_extension": ".py",
   "mimetype": "text/x-python",
   "name": "python",
   "nbconvert_exporter": "python",
   "pygments_lexer": "ipython3",
   "version": "3.6.12"
  }
 },
 "nbformat": 4,
 "nbformat_minor": 4
}
