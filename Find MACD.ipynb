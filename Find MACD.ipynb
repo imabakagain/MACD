{
 "cells": [
  {
   "cell_type": "code",
   "execution_count": 1,
   "metadata": {},
   "outputs": [],
   "source": [
    "import tushare as ts\n",
    "import matplotlib.pyplot as plt\n",
    "import numpy as np\n",
    "import time\n",
    "pro = ts.pro_api()"
   ]
  },
  {
   "cell_type": "code",
   "execution_count": null,
   "metadata": {},
   "outputs": [],
   "source": [
    "def stock_daily(code,st_date,En_date):\n",
    "    def Signal(code):\n",
    "        #choose from latest 3 days' macd\n",
    "        stack = macd[-3:].tolist()\n",
    "        if all([m< -0.5*mean for m in stack]):\n",
    "            if stack.index(min(stack)) == 1:\n",
    "                print('Buy signal in', code)\n",
    "    \"\"\"        for t in range(1, len(macd)):\n",
    "            ratio = macd[t]/macd[t-1]\n",
    "            if (ratio >0 and ratio <0.9 and macd[t] < -0.5 * mean):\n",
    "                stack.append(macd[t])\n",
    "                low.index(min(low))\n",
    "                print('Buy signal in:',code)\n",
    "                    else:\n",
    "                        pass\n",
    "    \"\"\"\n",
    "    #Get stock info\n",
    "    df = ts.pro_bar(ts_code = code, adj = 'qfq', start_date = st_date, end_date = En_date)\n",
    "    df_close = df[['trade_date','close']]\n",
    "    df_close = df_close.loc[::-1].reset_index(drop = True)\n",
    "    df_close.columns=['ds','y']\n",
    "    #    plt.plot(df_close.ds, df_close.y)\n",
    "    #    plt.show()\n",
    "\n",
    "    #MACD and processing\n",
    "    exp1 = df_close.y.ewm(span=12, adjust=False).mean()\n",
    "    exp2 = df_close.y.ewm(span=26, adjust=False).mean()\n",
    "\n",
    "    dif = exp1-exp2\n",
    "    dea = dif.ewm(span=9, adjust=False).mean()\n",
    "    macd = (dif-dea) * 2\n",
    "    macd_abs = abs(macd)\n",
    "    mean = np.mean(macd_abs)\n",
    "    for macd_t in macd: \n",
    "        if (macd_t == 0):\n",
    "            macd_t = 0.01\n",
    "    Signal(code)"
   ]
  },
  {
   "cell_type": "code",
   "execution_count": 3,
   "metadata": {},
   "outputs": [
    {
     "name": "stdout",
     "output_type": "stream",
     "text": [
      "Buy signal in 000059.SZ\n",
      "Buy signal in 000411.SZ\n",
      "Buy signal in 000590.SZ\n",
      "Buy signal in 000707.SZ\n",
      "Buy signal in 000729.SZ\n",
      "Buy signal in 000835.SZ\n",
      "Buy signal in 001965.SZ\n",
      "Buy signal in 002120.SZ\n",
      "Buy signal in 002145.SZ\n",
      "Buy signal in 002204.SZ\n",
      "Buy signal in 002249.SZ\n",
      "Buy signal in 002311.SZ\n",
      "Buy signal in 002650.SZ\n",
      "Buy signal in 002664.SZ\n",
      "Buy signal in 002722.SZ\n",
      "Buy signal in 002778.SZ\n",
      "Buy signal in 002785.SZ\n",
      "Buy signal in 300005.SZ\n",
      "Buy signal in 300012.SZ\n",
      "Buy signal in 300026.SZ\n",
      "Buy signal in 300132.SZ\n",
      "Buy signal in 300473.SZ\n",
      "Buy signal in 300529.SZ\n",
      "Buy signal in 300683.SZ\n",
      "Buy signal in 300992.SZ\n",
      "Buy signal in 301001.SZ\n"
     ]
    }
   ],
   "source": [
    "List_data = pro.stock_basic(exchange='SZSE', list_status='L', fields='ts_code,symbol,name')\n",
    "stock_list = List_data[['ts_code']]\n",
    "\n",
    "for code_r in stock_list.values:           \n",
    "    stock_daily(code_r[0], '20210402', '20210602')"
   ]
  },
  {
   "cell_type": "code",
   "execution_count": 4,
   "metadata": {},
   "outputs": [
    {
     "name": "stdout",
     "output_type": "stream",
     "text": [
      "hi\n"
     ]
    }
   ],
   "source": [
    "stack=[]\n",
    "stack.append(1)\n",
    "stack.append(2)\n",
    "stack.append(3)\n",
    "\n",
    "if stack.index(max(stack)) <3:\n",
    "    print('hi')"
   ]
  },
  {
   "cell_type": "code",
   "execution_count": 6,
   "metadata": {},
   "outputs": [
    {
     "data": {
      "text/plain": [
       "[2, 3]"
      ]
     },
     "execution_count": 6,
     "metadata": {},
     "output_type": "execute_result"
    }
   ],
   "source": [
    "stack[-2:]"
   ]
  },
  {
   "cell_type": "code",
   "execution_count": 18,
   "metadata": {},
   "outputs": [],
   "source": [
    "K = all([x<0 for x in stack])"
   ]
  },
  {
   "cell_type": "code",
   "execution_count": 19,
   "metadata": {},
   "outputs": [
    {
     "data": {
      "text/plain": [
       "False"
      ]
     },
     "execution_count": 19,
     "metadata": {},
     "output_type": "execute_result"
    }
   ],
   "source": [
    "K"
   ]
  },
  {
   "cell_type": "code",
   "execution_count": 2,
   "metadata": {},
   "outputs": [],
   "source": [
    "def stock_weekly(code,st_date,En_date):\n",
    "    def Signal(code):\n",
    "        stack = macd[-3:].tolist()\n",
    "        if all([m< -0.5*mean for m in stack]):\n",
    "            if stack.index(min(stack)) == 1:\n",
    "                print('Buy signal in', code)\n",
    "    \"\"\"        for t in range(1, len(macd)):\n",
    "            ratio = macd[t]/macd[t-1]\n",
    "            if (ratio >0 and ratio <0.9 and macd[t] < -0.5 * mean):\n",
    "                stack.append(macd[t])\n",
    "                low.index(min(low))\n",
    "                print('Buy signal in:',code)\n",
    "                    else:\n",
    "                        pass\n",
    "    \"\"\"\n",
    "    #Get stock info\n",
    "    df = pro.weekly(ts_code = code, adj = 'qfq', start_date = st_date, end_date = En_date)\n",
    "    df_close = df[['trade_date','close']]\n",
    "    df_close = df_close.loc[::-1].reset_index(drop = True)\n",
    "    df_close.columns=['ds','y']\n",
    "    #    plt.plot(df_close.ds, df_close.y)\n",
    "    #    plt.show()\n",
    "\n",
    "    #MACD and processing\n",
    "    exp1 = df_close.y.ewm(span=12, adjust=False).mean()\n",
    "    exp2 = df_close.y.ewm(span=26, adjust=False).mean()\n",
    "\n",
    "    dif = exp1-exp2\n",
    "    dea = dif.ewm(span=9, adjust=False).mean()\n",
    "    macd = (dif-dea) * 2\n",
    "    macd_abs = abs(macd)\n",
    "    mean = np.mean(macd_abs)\n",
    "    for macd_t in macd: \n",
    "        if (macd_t == 0):\n",
    "            macd_t = 0.01\n",
    "    Signal(code)"
   ]
  },
  {
   "cell_type": "code",
   "execution_count": 9,
   "metadata": {},
   "outputs": [
    {
     "name": "stdout",
     "output_type": "stream",
     "text": [
      "Buy signal in 000816.SZ\n",
      "Buy signal in 000971.SZ\n",
      "Buy signal in 000976.SZ\n",
      "Buy signal in 002043.SZ\n",
      "Buy signal in 002124.SZ\n",
      "Buy signal in 002165.SZ\n",
      "Buy signal in 002210.SZ\n",
      "Buy signal in 002324.SZ\n"
     ]
    }
   ],
   "source": [
    "List_data = pro.stock_basic(exchange='SZSE', list_status='L', fields='ts_code,symbol,name')\n",
    "stock_list = List_data[['ts_code']][300:800]\n",
    "\n",
    "for code_r in stock_list.values:           \n",
    "    stock_weekly(code_r[0], '20201128', '20210620')\n",
    "    time.sleep(0.3)\n",
    "#抱歉，您每分钟最多访问该接口200次，权限的具体详情访问：https://tushare.pro/document/1?doc_id=108"
   ]
  },
  {
   "cell_type": "code",
   "execution_count": null,
   "metadata": {},
   "outputs": [],
   "source": []
  }
 ],
 "metadata": {
  "kernelspec": {
   "display_name": "Python 3",
   "language": "python",
   "name": "python3"
  },
  "language_info": {
   "codemirror_mode": {
    "name": "ipython",
    "version": 3
   },
   "file_extension": ".py",
   "mimetype": "text/x-python",
   "name": "python",
   "nbconvert_exporter": "python",
   "pygments_lexer": "ipython3",
   "version": "3.6.12"
  }
 },
 "nbformat": 4,
 "nbformat_minor": 4
}
