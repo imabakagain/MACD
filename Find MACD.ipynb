{
 "cells": [
  {
   "cell_type": "code",
   "execution_count": null,
   "metadata": {},
   "outputs": [],
   "source": [
    "import tushare as ts\n",
    "import pandas as pd\n",
    "import matplotlib.pyplot as plt\n",
    "import numpy as np\n",
    "import time\n",
    "pro = ts.pro_api()"
   ]
  },
  {
   "cell_type": "code",
   "execution_count": null,
   "metadata": {},
   "outputs": [],
   "source": [
    "def stock_daily(code,st_date,En_date):\n",
    "    def Signal(code):\n",
    "        #choose from latest 3 days' macd\n",
    "        stack = macd[-3:].tolist()\n",
    "        if all([m< -0.5*mean for m in stack]):\n",
    "            if stack.index(min(stack)) == 1:\n",
    "                print('Buy signal in', code)\n",
    "    \"\"\"        for t in range(1, len(macd)):\n",
    "            ratio = macd[t]/macd[t-1]\n",
    "            if (ratio >0 and ratio <0.9 and macd[t] < -0.5 * mean):\n",
    "                stack.append(macd[t])\n",
    "                low.index(min(low))\n",
    "                print('Buy signal in:',code)\n",
    "                    else:\n",
    "                        pass\n",
    "    \"\"\"\n",
    "    #Get stock info\n",
    "    df = ts.pro_bar(ts_code = code, adj = 'qfq', start_date = st_date, end_date = En_date)\n",
    "    df_close = df[['trade_date','close']]\n",
    "    df_close = df_close.loc[::-1].reset_index(drop = True)\n",
    "    df_close.columns=['ds','y']\n",
    "    #    plt.plot(df_close.ds, df_close.y)\n",
    "    #    plt.show()\n",
    "\n",
    "    #MACD and processing\n",
    "    exp1 = df_close.y.ewm(span=12, adjust=False).mean()\n",
    "    exp2 = df_close.y.ewm(span=26, adjust=False).mean()\n",
    "\n",
    "    dif = exp1-exp2\n",
    "    dea = dif.ewm(span=9, adjust=False).mean()\n",
    "    macd = (dif-dea) * 2\n",
    "    macd_abs = abs(macd)\n",
    "    mean = np.mean(macd_abs)\n",
    "    for macd_t in macd: \n",
    "        if (macd_t == 0):\n",
    "            macd_t = 0.01\n",
    "    Signal(code)"
   ]
  },
  {
   "cell_type": "code",
   "execution_count": null,
   "metadata": {},
   "outputs": [],
   "source": [
    "List_data = pro.stock_basic(exchange='SZSE', list_status='L', fields='ts_code,symbol,name')\n",
    "stock_list = List_data[['ts_code']]\n",
    "\n",
    "for code_r in stock_list.values:           \n",
    "    stock_daily(code_r[0], '20210402', '20210602')\n",
    "    time.sleep(0.3)"
   ]
  },
  {
   "cell_type": "code",
   "execution_count": null,
   "metadata": {},
   "outputs": [],
   "source": [
    "stack=[]\n",
    "stack.append(1)\n",
    "stack.append(2)\n",
    "stack.append(3)\n",
    "\n",
    "if stack.index(max(stack)) <3:\n",
    "    print('hi')"
   ]
  },
  {
   "cell_type": "code",
   "execution_count": null,
   "metadata": {},
   "outputs": [],
   "source": [
    "stack[-2:]"
   ]
  },
  {
   "cell_type": "code",
   "execution_count": null,
   "metadata": {},
   "outputs": [],
   "source": [
    "K = all([x<0 for x in stack])"
   ]
  },
  {
   "cell_type": "code",
   "execution_count": null,
   "metadata": {},
   "outputs": [],
   "source": [
    "K"
   ]
  },
  {
   "cell_type": "code",
   "execution_count": null,
   "metadata": {},
   "outputs": [],
   "source": [
    "def stock_weekly(code,st_date,En_date):\n",
    "    def Signal(code):\n",
    "        stack = macd[-3:].tolist()\n",
    "        if all([m< -0.5*mean for m in stack]):\n",
    "            if stack.index(min(stack)) == 1:\n",
    "                print('Buy signal in', code)\n",
    "    #Get stock info\n",
    "    df = pro.weekly(ts_code = code, adj = 'qfq', start_date = st_date, end_date = En_date)\n",
    "    df_close = df[['trade_date','close']]\n",
    "    df_close = df_close.loc[::-1].reset_index(drop = True)\n",
    "    df_close.columns=['ds','y']\n",
    "    #    plt.plot(df_close.ds, df_close.y)\n",
    "    #    plt.show()\n",
    "\n",
    "    #MACD and processing\n",
    "    exp1 = df_close.y.ewm(span=12, adjust=False).mean()\n",
    "    exp2 = df_close.y.ewm(span=26, adjust=False).mean()\n",
    "\n",
    "    dif = exp1-exp2\n",
    "    dea = dif.ewm(span=9, adjust=False).mean()\n",
    "    macd = (dif-dea) * 2\n",
    "    macd_abs = abs(macd)\n",
    "    mean = np.mean(macd_abs)\n",
    "    for macd_t in macd: \n",
    "        if (macd_t == 0):\n",
    "            macd_t = 0.01\n",
    "    Signal(code)"
   ]
  },
  {
   "cell_type": "code",
   "execution_count": null,
   "metadata": {
    "scrolled": true
   },
   "outputs": [],
   "source": [
    "List_data = pro.stock_basic(exchange='SZSE', list_status='L', fields='ts_code,symbol,name')\n",
    "stock_list = List_data[['ts_code']]\n",
    "\n",
    "for code_r in stock_list.values:           \n",
    "    stock_weekly(code_r[0], '20201128', '20210625')\n",
    "    time.sleep(0.3)\n",
    "#抱歉，您每分钟最多访问该接口200次，权限的具体详情访问：https://tushare.pro/document/1?doc_id=108"
   ]
  },
  {
   "cell_type": "code",
   "execution_count": null,
   "metadata": {},
   "outputs": [],
   "source": [
    "def stock_monthly(code,st_date,En_date):\n",
    "    def Signal(code):       \n",
    "        stack = macd[-3:].tolist()\n",
    "#        print(stack)\n",
    "        if all([m< -0.5*mean for m in stack]):\n",
    "            if stack.index(min(stack)) == 1:\n",
    "                print('Buy signal in', code)\n",
    "                return True\n",
    "            else :\n",
    "                return False\n",
    "    #Get stock info\n",
    "    df = pro.monthly(ts_code = code, adj = 'qfq', start_date = st_date, end_date = En_date)\n",
    "    df_close = df[['trade_date','close']]\n",
    "    df_close = df_close.loc[::-1].reset_index(drop = True)\n",
    "    df_close.columns=['ds','y']\n",
    "    #    plt.plot(df_close.ds, df_close.y)\n",
    "    #    plt.show()\n",
    "\n",
    "    #MACD and processing\n",
    "    exp1 = df_close.y.ewm(span=12, adjust=False).mean()\n",
    "    exp2 = df_close.y.ewm(span=26, adjust=False).mean()\n",
    "\n",
    "    dif = exp1-exp2\n",
    "    dea = dif.ewm(span=9, adjust=False).mean()\n",
    "    macd = (dif-dea) * 2\n",
    "#    print(macd)\n",
    "    macd_abs = abs(macd)\n",
    "    mean = np.mean(macd_abs)\n",
    "#    print('mean',mean)\n",
    "    for macd_t in macd: \n",
    "        if (macd_t == 0):\n",
    "            macd_t = 0.01\n",
    "    return Signal(code)"
   ]
  },
  {
   "cell_type": "code",
   "execution_count": null,
   "metadata": {},
   "outputs": [],
   "source": [
    "List_data = pro.stock_basic(exchange='SSE', list_status='L', fields='ts_code,symbol,name')\n",
    "List_data\n",
    "stock_list = List_data[['ts_code']]\n",
    "\n",
    "df_csv = pd.DataFrame(columns=['code','attitude','reason','earn_nextmonth'])\n",
    "\n",
    "for code_r in stock_list.values:\n",
    "    try:\n",
    "        if (stock_monthly(code_r[0], '20161201', '20210601')):\n",
    "            df_csv = df_csv.append({'code':code_r[0]},ignore_index = True)\n",
    "    except :\n",
    "        #skip the new stock with no macd\n",
    "        print(code_r[0])\n",
    "    time.sleep(0.5)\n",
    "\n",
    "df_csv.to_csv(r'data/Mon_June_SH.csv',index = False)"
   ]
  },
  {
   "cell_type": "code",
   "execution_count": null,
   "metadata": {},
   "outputs": [],
   "source": [
    "List_data = pro.stock_basic(exchange='SSE', list_status='L', fields='ts_code,symbol,name')\n",
    "List_data.to_csv(r'data/SSE_list_2021.csv',index = False, encoding = 'utf-8-sig')"
   ]
  },
  {
   "cell_type": "code",
   "execution_count": null,
   "metadata": {},
   "outputs": [],
   "source": [
    "List_data"
   ]
  },
  {
   "cell_type": "code",
   "execution_count": null,
   "metadata": {},
   "outputs": [],
   "source": [
    "List_data.loc[1216]"
   ]
  },
  {
   "cell_type": "code",
   "execution_count": null,
   "metadata": {},
   "outputs": [],
   "source": []
  }
 ],
 "metadata": {
  "kernelspec": {
   "display_name": "Python 3",
   "language": "python",
   "name": "python3"
  },
  "language_info": {
   "codemirror_mode": {
    "name": "ipython",
    "version": 3
   },
   "file_extension": ".py",
   "mimetype": "text/x-python",
   "name": "python",
   "nbconvert_exporter": "python",
   "pygments_lexer": "ipython3",
   "version": "3.6.12"
  }
 },
 "nbformat": 4,
 "nbformat_minor": 4
}
