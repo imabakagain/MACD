{
 "cells": [
  {
   "cell_type": "code",
   "execution_count": 1,
   "metadata": {},
   "outputs": [],
   "source": [
    "import tushare as ts\n",
    "import matplotlib.pyplot as plt\n",
    "import numpy as np\n",
    "import time\n",
    "pro = ts.pro_api()"
   ]
  },
  {
   "cell_type": "code",
   "execution_count": null,
   "metadata": {},
   "outputs": [],
   "source": [
    "def stock_daily(code,st_date,En_date):\n",
    "    def Signal(code):\n",
    "        #choose from latest 3 days' macd\n",
    "        stack = macd[-3:].tolist()\n",
    "        if all([m< -0.5*mean for m in stack]):\n",
    "            if stack.index(min(stack)) == 1:\n",
    "                print('Buy signal in', code)\n",
    "    \"\"\"        for t in range(1, len(macd)):\n",
    "            ratio = macd[t]/macd[t-1]\n",
    "            if (ratio >0 and ratio <0.9 and macd[t] < -0.5 * mean):\n",
    "                stack.append(macd[t])\n",
    "                low.index(min(low))\n",
    "                print('Buy signal in:',code)\n",
    "                    else:\n",
    "                        pass\n",
    "    \"\"\"\n",
    "    #Get stock info\n",
    "    df = ts.pro_bar(ts_code = code, adj = 'qfq', start_date = st_date, end_date = En_date)\n",
    "    df_close = df[['trade_date','close']]\n",
    "    df_close = df_close.loc[::-1].reset_index(drop = True)\n",
    "    df_close.columns=['ds','y']\n",
    "    #    plt.plot(df_close.ds, df_close.y)\n",
    "    #    plt.show()\n",
    "\n",
    "    #MACD and processing\n",
    "    exp1 = df_close.y.ewm(span=12, adjust=False).mean()\n",
    "    exp2 = df_close.y.ewm(span=26, adjust=False).mean()\n",
    "\n",
    "    dif = exp1-exp2\n",
    "    dea = dif.ewm(span=9, adjust=False).mean()\n",
    "    macd = (dif-dea) * 2\n",
    "    macd_abs = abs(macd)\n",
    "    mean = np.mean(macd_abs)\n",
    "    for macd_t in macd: \n",
    "        if (macd_t == 0):\n",
    "            macd_t = 0.01\n",
    "    Signal(code)"
   ]
  },
  {
   "cell_type": "code",
   "execution_count": 3,
   "metadata": {},
   "outputs": [
    {
     "name": "stdout",
     "output_type": "stream",
     "text": [
      "Buy signal in 000059.SZ\n",
      "Buy signal in 000411.SZ\n",
      "Buy signal in 000590.SZ\n",
      "Buy signal in 000707.SZ\n",
      "Buy signal in 000729.SZ\n",
      "Buy signal in 000835.SZ\n",
      "Buy signal in 001965.SZ\n",
      "Buy signal in 002120.SZ\n",
      "Buy signal in 002145.SZ\n",
      "Buy signal in 002204.SZ\n",
      "Buy signal in 002249.SZ\n",
      "Buy signal in 002311.SZ\n",
      "Buy signal in 002650.SZ\n",
      "Buy signal in 002664.SZ\n",
      "Buy signal in 002722.SZ\n",
      "Buy signal in 002778.SZ\n",
      "Buy signal in 002785.SZ\n",
      "Buy signal in 300005.SZ\n",
      "Buy signal in 300012.SZ\n",
      "Buy signal in 300026.SZ\n",
      "Buy signal in 300132.SZ\n",
      "Buy signal in 300473.SZ\n",
      "Buy signal in 300529.SZ\n",
      "Buy signal in 300683.SZ\n",
      "Buy signal in 300992.SZ\n",
      "Buy signal in 301001.SZ\n"
     ]
    }
   ],
   "source": [
    "List_data = pro.stock_basic(exchange='SZSE', list_status='L', fields='ts_code,symbol,name')\n",
    "stock_list = List_data[['ts_code']]\n",
    "\n",
    "for code_r in stock_list.values:           \n",
    "    stock_daily(code_r[0], '20210402', '20210602')"
   ]
  },
  {
   "cell_type": "code",
   "execution_count": 4,
   "metadata": {},
   "outputs": [
    {
     "name": "stdout",
     "output_type": "stream",
     "text": [
      "hi\n"
     ]
    }
   ],
   "source": [
    "stack=[]\n",
    "stack.append(1)\n",
    "stack.append(2)\n",
    "stack.append(3)\n",
    "\n",
    "if stack.index(max(stack)) <3:\n",
    "    print('hi')"
   ]
  },
  {
   "cell_type": "code",
   "execution_count": 6,
   "metadata": {},
   "outputs": [
    {
     "data": {
      "text/plain": [
       "[2, 3]"
      ]
     },
     "execution_count": 6,
     "metadata": {},
     "output_type": "execute_result"
    }
   ],
   "source": [
    "stack[-2:]"
   ]
  },
  {
   "cell_type": "code",
   "execution_count": 18,
   "metadata": {},
   "outputs": [],
   "source": [
    "K = all([x<0 for x in stack])"
   ]
  },
  {
   "cell_type": "code",
   "execution_count": 19,
   "metadata": {},
   "outputs": [
    {
     "data": {
      "text/plain": [
       "False"
      ]
     },
     "execution_count": 19,
     "metadata": {},
     "output_type": "execute_result"
    }
   ],
   "source": [
    "K"
   ]
  },
  {
   "cell_type": "code",
   "execution_count": 2,
   "metadata": {},
   "outputs": [],
   "source": [
    "def stock_weekly(code,st_date,En_date):\n",
    "    def Signal(code):\n",
    "        stack = macd[-3:].tolist()\n",
    "        if all([m< -0.5*mean for m in stack]):\n",
    "            if stack.index(min(stack)) == 1:\n",
    "                print('Buy signal in', code)\n",
    "    \"\"\"        for t in range(1, len(macd)):\n",
    "            ratio = macd[t]/macd[t-1]\n",
    "            if (ratio >0 and ratio <0.9 and macd[t] < -0.5 * mean):\n",
    "                stack.append(macd[t])\n",
    "                low.index(min(low))\n",
    "                print('Buy signal in:',code)\n",
    "                    else:\n",
    "                        pass\n",
    "    \"\"\"\n",
    "    #Get stock info\n",
    "    df = pro.weekly(ts_code = code, adj = 'qfq', start_date = st_date, end_date = En_date)\n",
    "    df_close = df[['trade_date','close']]\n",
    "    df_close = df_close.loc[::-1].reset_index(drop = True)\n",
    "    df_close.columns=['ds','y']\n",
    "    #    plt.plot(df_close.ds, df_close.y)\n",
    "    #    plt.show()\n",
    "\n",
    "    #MACD and processing\n",
    "    exp1 = df_close.y.ewm(span=12, adjust=False).mean()\n",
    "    exp2 = df_close.y.ewm(span=26, adjust=False).mean()\n",
    "\n",
    "    dif = exp1-exp2\n",
    "    dea = dif.ewm(span=9, adjust=False).mean()\n",
    "    macd = (dif-dea) * 2\n",
    "    macd_abs = abs(macd)\n",
    "    mean = np.mean(macd_abs)\n",
    "    for macd_t in macd: \n",
    "        if (macd_t == 0):\n",
    "            macd_t = 0.01\n",
    "    Signal(code)"
   ]
  },
  {
   "cell_type": "code",
   "execution_count": 6,
   "metadata": {},
   "outputs": [
    {
     "name": "stdout",
     "output_type": "stream",
     "text": [
      "Buy signal in 002567.SZ\n",
      "Buy signal in 002618.SZ\n",
      "Buy signal in 002619.SZ\n",
      "Buy signal in 002640.SZ\n",
      "Buy signal in 002668.SZ\n",
      "Buy signal in 002681.SZ\n",
      "Buy signal in 002758.SZ\n",
      "Buy signal in 002825.SZ\n",
      "Buy signal in 002853.SZ\n",
      "Buy signal in 002867.SZ\n",
      "Buy signal in 002886.SZ\n",
      "Buy signal in 002918.SZ\n",
      "Buy signal in 002942.SZ\n",
      "Buy signal in 002965.SZ\n",
      "Buy signal in 002985.SZ\n",
      "Buy signal in 002993.SZ\n",
      "Buy signal in 003029.SZ\n",
      "Buy signal in 003041.SZ\n",
      "Buy signal in 003042.SZ\n",
      "Buy signal in 300044.SZ\n",
      "Buy signal in 300152.SZ\n",
      "Buy signal in 300178.SZ\n",
      "Buy signal in 300192.SZ\n",
      "Buy signal in 300197.SZ\n",
      "Buy signal in 300269.SZ\n",
      "Buy signal in 300280.SZ\n",
      "Buy signal in 300312.SZ\n",
      "Buy signal in 300370.SZ\n",
      "Buy signal in 300408.SZ\n",
      "Buy signal in 300441.SZ\n",
      "Buy signal in 300495.SZ\n",
      "Buy signal in 300499.SZ\n",
      "Buy signal in 300536.SZ\n",
      "Buy signal in 300715.SZ\n",
      "Buy signal in 300723.SZ\n",
      "Buy signal in 300732.SZ\n",
      "Buy signal in 300735.SZ\n",
      "Buy signal in 300748.SZ\n",
      "Buy signal in 300787.SZ\n",
      "Buy signal in 300806.SZ\n",
      "Buy signal in 300859.SZ\n",
      "Buy signal in 300930.SZ\n",
      "Buy signal in 300947.SZ\n",
      "Buy signal in 300968.SZ\n",
      "Buy signal in 300975.SZ\n",
      "Buy signal in 300978.SZ\n",
      "Buy signal in 300981.SZ\n",
      "Buy signal in 300985.SZ\n",
      "Buy signal in 300988.SZ\n",
      "Buy signal in 300990.SZ\n"
     ]
    }
   ],
   "source": [
    "List_data = pro.stock_basic(exchange='SZSE', list_status='L', fields='ts_code,symbol,name')\n",
    "stock_list = List_data[['ts_code']][999:]\n",
    "\n",
    "for code_r in stock_list.values:           \n",
    "    stock_weekly(code_r[0], '20201128', '20210607')\n",
    "    time.sleep(0.3)\n",
    "#抱歉，您每分钟最多访问该接口200次，权限的具体详情访问：https://tushare.pro/document/1?doc_id=108"
   ]
  },
  {
   "cell_type": "code",
   "execution_count": 9,
   "metadata": {},
   "outputs": [
    {
     "name": "stdout",
     "output_type": "stream",
     "text": [
      "Buy signal in 000589.SZ\n",
      "Buy signal in 000671.SZ\n",
      "Buy signal in 000703.SZ\n",
      "Buy signal in 000708.SZ\n",
      "Buy signal in 000786.SZ\n",
      "Buy signal in 000831.SZ\n"
     ]
    },
    {
     "ename": "Exception",
     "evalue": "抱歉，您每分钟最多访问该接口200次，权限的具体详情访问：https://tushare.pro/document/1?doc_id=108。",
     "output_type": "error",
     "traceback": [
      "\u001b[1;31m---------------------------------------------------------------------------\u001b[0m",
      "\u001b[1;31mException\u001b[0m                                 Traceback (most recent call last)",
      "\u001b[1;32m<ipython-input-9-dde213e14b4d>\u001b[0m in \u001b[0;36m<module>\u001b[1;34m()\u001b[0m\n\u001b[0;32m      1\u001b[0m \u001b[1;32mfor\u001b[0m \u001b[0mcode_r\u001b[0m \u001b[1;32min\u001b[0m \u001b[0mstock_list\u001b[0m\u001b[1;33m[\u001b[0m\u001b[1;36m160\u001b[0m\u001b[1;33m:\u001b[0m\u001b[1;33m]\u001b[0m\u001b[1;33m.\u001b[0m\u001b[0mvalues\u001b[0m\u001b[1;33m:\u001b[0m\u001b[1;33m\u001b[0m\u001b[1;33m\u001b[0m\u001b[0m\n\u001b[1;32m----> 2\u001b[1;33m     \u001b[0mstock_weekly\u001b[0m\u001b[1;33m(\u001b[0m\u001b[0mcode_r\u001b[0m\u001b[1;33m[\u001b[0m\u001b[1;36m0\u001b[0m\u001b[1;33m]\u001b[0m\u001b[1;33m,\u001b[0m \u001b[1;34m'20201128'\u001b[0m\u001b[1;33m,\u001b[0m \u001b[1;34m'20210528'\u001b[0m\u001b[1;33m)\u001b[0m\u001b[1;33m\u001b[0m\u001b[1;33m\u001b[0m\u001b[0m\n\u001b[0m",
      "\u001b[1;32m<ipython-input-2-db8b19febcb8>\u001b[0m in \u001b[0;36mstock_weekly\u001b[1;34m(code, st_date, En_date)\u001b[0m\n\u001b[0;32m     15\u001b[0m     \"\"\"\n\u001b[0;32m     16\u001b[0m     \u001b[1;31m#Get stock info\u001b[0m\u001b[1;33m\u001b[0m\u001b[1;33m\u001b[0m\u001b[1;33m\u001b[0m\u001b[0m\n\u001b[1;32m---> 17\u001b[1;33m     \u001b[0mdf\u001b[0m \u001b[1;33m=\u001b[0m \u001b[0mpro\u001b[0m\u001b[1;33m.\u001b[0m\u001b[0mweekly\u001b[0m\u001b[1;33m(\u001b[0m\u001b[0mts_code\u001b[0m \u001b[1;33m=\u001b[0m \u001b[0mcode\u001b[0m\u001b[1;33m,\u001b[0m \u001b[0madj\u001b[0m \u001b[1;33m=\u001b[0m \u001b[1;34m'qfq'\u001b[0m\u001b[1;33m,\u001b[0m \u001b[0mstart_date\u001b[0m \u001b[1;33m=\u001b[0m \u001b[0mst_date\u001b[0m\u001b[1;33m,\u001b[0m \u001b[0mend_date\u001b[0m \u001b[1;33m=\u001b[0m \u001b[0mEn_date\u001b[0m\u001b[1;33m)\u001b[0m\u001b[1;33m\u001b[0m\u001b[1;33m\u001b[0m\u001b[0m\n\u001b[0m\u001b[0;32m     18\u001b[0m     \u001b[0mdf_close\u001b[0m \u001b[1;33m=\u001b[0m \u001b[0mdf\u001b[0m\u001b[1;33m[\u001b[0m\u001b[1;33m[\u001b[0m\u001b[1;34m'trade_date'\u001b[0m\u001b[1;33m,\u001b[0m\u001b[1;34m'close'\u001b[0m\u001b[1;33m]\u001b[0m\u001b[1;33m]\u001b[0m\u001b[1;33m\u001b[0m\u001b[1;33m\u001b[0m\u001b[0m\n\u001b[0;32m     19\u001b[0m     \u001b[0mdf_close\u001b[0m \u001b[1;33m=\u001b[0m \u001b[0mdf_close\u001b[0m\u001b[1;33m.\u001b[0m\u001b[0mloc\u001b[0m\u001b[1;33m[\u001b[0m\u001b[1;33m:\u001b[0m\u001b[1;33m:\u001b[0m\u001b[1;33m-\u001b[0m\u001b[1;36m1\u001b[0m\u001b[1;33m]\u001b[0m\u001b[1;33m.\u001b[0m\u001b[0mreset_index\u001b[0m\u001b[1;33m(\u001b[0m\u001b[0mdrop\u001b[0m \u001b[1;33m=\u001b[0m \u001b[1;32mTrue\u001b[0m\u001b[1;33m)\u001b[0m\u001b[1;33m\u001b[0m\u001b[1;33m\u001b[0m\u001b[0m\n",
      "\u001b[1;32mC:\\Z\\General\\Anaconda3\\lib\\site-packages\\tushare\\pro\\client.py\u001b[0m in \u001b[0;36mquery\u001b[1;34m(self, api_name, fields, **kwargs)\u001b[0m\n\u001b[0;32m     42\u001b[0m             \u001b[0mresult\u001b[0m \u001b[1;33m=\u001b[0m \u001b[0mjson\u001b[0m\u001b[1;33m.\u001b[0m\u001b[0mloads\u001b[0m\u001b[1;33m(\u001b[0m\u001b[0mres\u001b[0m\u001b[1;33m.\u001b[0m\u001b[0mtext\u001b[0m\u001b[1;33m)\u001b[0m\u001b[1;33m\u001b[0m\u001b[1;33m\u001b[0m\u001b[0m\n\u001b[0;32m     43\u001b[0m             \u001b[1;32mif\u001b[0m \u001b[0mresult\u001b[0m\u001b[1;33m[\u001b[0m\u001b[1;34m'code'\u001b[0m\u001b[1;33m]\u001b[0m \u001b[1;33m!=\u001b[0m \u001b[1;36m0\u001b[0m\u001b[1;33m:\u001b[0m\u001b[1;33m\u001b[0m\u001b[1;33m\u001b[0m\u001b[0m\n\u001b[1;32m---> 44\u001b[1;33m                 \u001b[1;32mraise\u001b[0m \u001b[0mException\u001b[0m\u001b[1;33m(\u001b[0m\u001b[0mresult\u001b[0m\u001b[1;33m[\u001b[0m\u001b[1;34m'msg'\u001b[0m\u001b[1;33m]\u001b[0m\u001b[1;33m)\u001b[0m\u001b[1;33m\u001b[0m\u001b[1;33m\u001b[0m\u001b[0m\n\u001b[0m\u001b[0;32m     45\u001b[0m             \u001b[0mdata\u001b[0m \u001b[1;33m=\u001b[0m \u001b[0mresult\u001b[0m\u001b[1;33m[\u001b[0m\u001b[1;34m'data'\u001b[0m\u001b[1;33m]\u001b[0m\u001b[1;33m\u001b[0m\u001b[1;33m\u001b[0m\u001b[0m\n\u001b[0;32m     46\u001b[0m             \u001b[0mcolumns\u001b[0m \u001b[1;33m=\u001b[0m \u001b[0mdata\u001b[0m\u001b[1;33m[\u001b[0m\u001b[1;34m'fields'\u001b[0m\u001b[1;33m]\u001b[0m\u001b[1;33m\u001b[0m\u001b[1;33m\u001b[0m\u001b[0m\n",
      "\u001b[1;31mException\u001b[0m: 抱歉，您每分钟最多访问该接口200次，权限的具体详情访问：https://tushare.pro/document/1?doc_id=108。"
     ]
    }
   ],
   "source": [
    "for code_r in stock_list.values:           \n",
    "    stock_weekly(code_r[0], '20201128', '20210528')\n",
    "    "
   ]
  },
  {
   "cell_type": "code",
   "execution_count": null,
   "metadata": {},
   "outputs": [],
   "source": []
  }
 ],
 "metadata": {
  "kernelspec": {
   "display_name": "Python 3",
   "language": "python",
   "name": "python3"
  },
  "language_info": {
   "codemirror_mode": {
    "name": "ipython",
    "version": 3
   },
   "file_extension": ".py",
   "mimetype": "text/x-python",
   "name": "python",
   "nbconvert_exporter": "python",
   "pygments_lexer": "ipython3",
   "version": "3.6.12"
  }
 },
 "nbformat": 4,
 "nbformat_minor": 4
}
