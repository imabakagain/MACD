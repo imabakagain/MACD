{
 "cells": [
  {
   "cell_type": "code",
   "execution_count": 1,
   "metadata": {
    "collapsed": true
   },
   "outputs": [],
   "source": [
    "from wallstreet import Stock, Call, Put\n",
    "\n",
    "#s = Stock('WORK', source='yahoo')\n",
    "#s.price"
   ]
  },
  {
   "cell_type": "code",
   "execution_count": 2,
   "metadata": {
    "collapsed": true
   },
   "outputs": [],
   "source": [
    "apple = Stock('AAPL', source='yahoo')"
   ]
  },
  {
   "cell_type": "code",
   "execution_count": 2,
   "metadata": {},
   "outputs": [
    {
     "name": "stderr",
     "output_type": "stream",
     "text": [
      "C:\\Z\\General\\Anaconda3\\lib\\site-packages\\wallstreet\\blackandscholes.py:47: RuntimeWarning: divide by zero encountered in true_divide\n",
      "  d1 = (log(S/K) + (r - q + (sigma**2)/2)*T)/(sigma*sqrt(T))\n",
      "C:\\Z\\General\\Anaconda3\\lib\\site-packages\\wallstreet\\blackandscholes.py:61: RuntimeWarning: divide by zero encountered in true_divide\n",
      "  d1 = numerd1/(sigma*sqrt(self.T))\n",
      "C:\\Z\\General\\Anaconda3\\lib\\site-packages\\scipy\\optimize\\minpack.py:161: RuntimeWarning: The iteration is not making good progress, as measured by the \n",
      "  improvement from the last ten iterations.\n",
      "  warnings.warn(msg, RuntimeWarning)\n"
     ]
    }
   ],
   "source": [
    "call = Call('AAPL', d=21,m=6,y=2019,strike=300, source='yahoo')"
   ]
  },
  {
   "cell_type": "code",
   "execution_count": 3,
   "metadata": {},
   "outputs": [
    {
     "name": "stderr",
     "output_type": "stream",
     "text": [
      "C:\\Z\\General\\Anaconda3\\lib\\site-packages\\wallstreet\\blackandscholes.py:47: RuntimeWarning: divide by zero encountered in true_divide\n",
      "  d1 = (log(S/K) + (r - q + (sigma**2)/2)*T)/(sigma*sqrt(T))\n",
      "C:\\Z\\General\\Anaconda3\\lib\\site-packages\\wallstreet\\blackandscholes.py:61: RuntimeWarning: divide by zero encountered in true_divide\n",
      "  d1 = numerd1/(sigma*sqrt(self.T))\n",
      "C:\\Z\\General\\Anaconda3\\lib\\site-packages\\scipy\\optimize\\minpack.py:161: RuntimeWarning: The iteration is not making good progress, as measured by the \n",
      "  improvement from the last ten iterations.\n",
      "  warnings.warn(msg, RuntimeWarning)\n"
     ]
    },
    {
     "ename": "TypeError",
     "evalue": "'int' object is not callable",
     "output_type": "error",
     "traceback": [
      "\u001b[1;31m---------------------------------------------------------------------------\u001b[0m",
      "\u001b[1;31mTypeError\u001b[0m                                 Traceback (most recent call last)",
      "\u001b[1;32m<ipython-input-3-313bed5bbf41>\u001b[0m in \u001b[0;36m<module>\u001b[1;34m()\u001b[0m\n\u001b[1;32m----> 1\u001b[1;33m \u001b[0mcall\u001b[0m\u001b[1;33m.\u001b[0m\u001b[0mvolume\u001b[0m\u001b[1;33m(\u001b[0m\u001b[1;33m)\u001b[0m\u001b[1;33m\u001b[0m\u001b[0m\n\u001b[0m",
      "\u001b[1;31mTypeError\u001b[0m: 'int' object is not callable"
     ]
    }
   ],
   "source": [
    "call.volume()"
   ]
  },
  {
   "cell_type": "code",
   "execution_count": 6,
   "metadata": {},
   "outputs": [
    {
     "name": "stderr",
     "output_type": "stream",
     "text": [
      "C:\\Z\\General\\Anaconda3\\lib\\site-packages\\wallstreet\\blackandscholes.py:47: RuntimeWarning: divide by zero encountered in true_divide\n",
      "  d1 = (log(S/K) + (r - q + (sigma**2)/2)*T)/(sigma*sqrt(T))\n",
      "C:\\Z\\General\\Anaconda3\\lib\\site-packages\\wallstreet\\blackandscholes.py:61: RuntimeWarning: divide by zero encountered in true_divide\n",
      "  d1 = numerd1/(sigma*sqrt(self.T))\n",
      "C:\\Z\\General\\Anaconda3\\lib\\site-packages\\scipy\\optimize\\minpack.py:161: RuntimeWarning: The iteration is not making good progress, as measured by the \n",
      "  improvement from the last ten iterations.\n",
      "  warnings.warn(msg, RuntimeWarning)\n"
     ]
    },
    {
     "data": {
      "text/plain": [
       "0.7"
      ]
     },
     "execution_count": 6,
     "metadata": {},
     "output_type": "execute_result"
    }
   ],
   "source": [
    "call.price"
   ]
  },
  {
   "cell_type": "code",
   "execution_count": 2,
   "metadata": {},
   "outputs": [
    {
     "data": {
      "text/plain": [
       "217.68"
      ]
     },
     "execution_count": 2,
     "metadata": {},
     "output_type": "execute_result"
    }
   ],
   "source": [
    "Stock('AAPL',source = 'yahoo').price"
   ]
  },
  {
   "cell_type": "code",
   "execution_count": 4,
   "metadata": {},
   "outputs": [
    {
     "data": {
      "text/plain": [
       "Call(ticker=AAPL, expiration=21-06-2019, strike=300)"
      ]
     },
     "execution_count": 4,
     "metadata": {},
     "output_type": "execute_result"
    }
   ],
   "source": [
    "call"
   ]
  },
  {
   "cell_type": "code",
   "execution_count": 5,
   "metadata": {},
   "outputs": [
    {
     "name": "stderr",
     "output_type": "stream",
     "text": [
      "C:\\Z\\General\\Anaconda3\\lib\\site-packages\\wallstreet\\blackandscholes.py:47: RuntimeWarning: divide by zero encountered in true_divide\n",
      "  d1 = (log(S/K) + (r - q + (sigma**2)/2)*T)/(sigma*sqrt(T))\n",
      "C:\\Z\\General\\Anaconda3\\lib\\site-packages\\wallstreet\\blackandscholes.py:61: RuntimeWarning: divide by zero encountered in true_divide\n",
      "  d1 = numerd1/(sigma*sqrt(self.T))\n",
      "C:\\Z\\General\\Anaconda3\\lib\\site-packages\\scipy\\optimize\\minpack.py:161: RuntimeWarning: The iteration is not making good progress, as measured by the \n",
      "  improvement from the last ten iterations.\n",
      "  warnings.warn(msg, RuntimeWarning)\n",
      "C:\\Z\\General\\Anaconda3\\lib\\site-packages\\wallstreet\\blackandscholes.py:47: RuntimeWarning: divide by zero encountered in double_scalars\n",
      "  d1 = (log(S/K) + (r - q + (sigma**2)/2)*T)/(sigma*sqrt(T))\n"
     ]
    },
    {
     "data": {
      "text/plain": [
       "0.0"
      ]
     },
     "execution_count": 5,
     "metadata": {},
     "output_type": "execute_result"
    }
   ],
   "source": [
    "call.delta()"
   ]
  },
  {
   "cell_type": "code",
   "execution_count": 7,
   "metadata": {},
   "outputs": [
    {
     "data": {
      "text/plain": [
       "(80,\n",
       " 85,\n",
       " 90,\n",
       " 95,\n",
       " 100,\n",
       " 105,\n",
       " 110,\n",
       " 115,\n",
       " 120,\n",
       " 125,\n",
       " 130,\n",
       " 135,\n",
       " 140,\n",
       " 145,\n",
       " 147,\n",
       " 150,\n",
       " 155,\n",
       " 157.5,\n",
       " 160,\n",
       " 162.5,\n",
       " 165,\n",
       " 167.5,\n",
       " 170,\n",
       " 172.5,\n",
       " 175,\n",
       " 177.5,\n",
       " 180,\n",
       " 182.5,\n",
       " 185,\n",
       " 187.5,\n",
       " 190,\n",
       " 192.5,\n",
       " 195,\n",
       " 197.5,\n",
       " 200,\n",
       " 202.5,\n",
       " 205,\n",
       " 207.5,\n",
       " 210,\n",
       " 212.5,\n",
       " 215,\n",
       " 220,\n",
       " 225,\n",
       " 230,\n",
       " 235,\n",
       " 240,\n",
       " 245,\n",
       " 250,\n",
       " 255,\n",
       " 260,\n",
       " 265,\n",
       " 270,\n",
       " 275,\n",
       " 280,\n",
       " 285,\n",
       " 290,\n",
       " 295,\n",
       " 300,\n",
       " 310,\n",
       " 320,\n",
       " 330,\n",
       " 340)"
      ]
     },
     "execution_count": 7,
     "metadata": {},
     "output_type": "execute_result"
    }
   ],
   "source": [
    "call.strikes"
   ]
  },
  {
   "cell_type": "code",
   "execution_count": null,
   "metadata": {
    "collapsed": true
   },
   "outputs": [],
   "source": []
  }
 ],
 "metadata": {
  "kernelspec": {
   "display_name": "Python 3",
   "language": "python",
   "name": "python3"
  },
  "language_info": {
   "codemirror_mode": {
    "name": "ipython",
    "version": 3
   },
   "file_extension": ".py",
   "mimetype": "text/x-python",
   "name": "python",
   "nbconvert_exporter": "python",
   "pygments_lexer": "ipython3",
   "version": "3.6.12"
  }
 },
 "nbformat": 4,
 "nbformat_minor": 2
}
