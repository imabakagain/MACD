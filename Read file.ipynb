{
 "cells": [
  {
   "cell_type": "code",
   "execution_count": 1,
   "metadata": {},
   "outputs": [],
   "source": [
    "import pandas as pd\n",
    "import tushare as ts\n",
    "pro = ts.pro_api()\n",
    "\n",
    "weekly_selected = pd.read_csv (r'data\\june11 weekly.csv')\n",
    "stock_list = weekly_selected[['code']]\n",
    "def weekly_earn(code,st_date,En_date):\n",
    "    df = pro.weekly(ts_code = code, adj = 'qfq', start_date = st_date, end_date = En_date)\n",
    "    earn = (df.close / df.open - 1)*100\n",
    "    return earn"
   ]
  },
  {
   "cell_type": "code",
   "execution_count": 2,
   "metadata": {},
   "outputs": [
    {
     "name": "stdout",
     "output_type": "stream",
     "text": [
      "-4.258443465491924\n",
      "-0.5607476635513864\n",
      "-0.5291005291005346\n",
      "-0.952380952380949\n",
      "1.0526315789473717\n",
      "-4.433497536945808\n",
      "11.111111111111093\n",
      "-6.811409110259681\n",
      "1.1820330969267046\n",
      "-7.80952380952381\n",
      "-3.240740740740755\n",
      "-1.4660493827160614\n",
      "-1.773049645390068\n",
      "-0.9508716323296307\n",
      "-0.9293680297397744\n",
      "-4.225352112676051\n",
      "-0.8316008316008316\n",
      "-7.459016393442619\n",
      "-5.483870967741932\n",
      "-2.0017406440382968\n",
      "-3.2219570405728093\n",
      "0.06666666666665932\n",
      "-5.91836734693878\n",
      "-2.905198776758411\n",
      "-4.847396768402168\n",
      "5.141579731743673\n",
      "-0.8333333333333304\n",
      "6.969026548672574\n",
      "-8.174097664543522\n",
      "-1.0305483989694553\n",
      "-1.5742642026009501\n",
      "0.30864197530864335\n",
      "2.215189873417711\n",
      "-1.2031139419674486\n",
      "8.710801393728218\n",
      "7.177125311840338\n",
      "-6.5274151436031325\n",
      "-5.35224153705397\n",
      "5.666666666666664\n",
      "-0.7017543859649145\n",
      "-1.605136436597121\n",
      "-0.2762430939226568\n",
      "-2.3655913978494647\n",
      "-1.4173998044965774\n",
      "-5.9047619047619015\n",
      "-2.765486725663713\n",
      "6.34020618556701\n",
      "-0.7936507936507908\n",
      "-1.0752688172043001\n",
      "-3.3333333333333326\n",
      "-0.04113533525297308\n",
      "-10.258620689655174\n",
      "2.2592152199762072\n",
      "19.2806357172731\n",
      "-7.461394140568622\n",
      "-1.2380952380952492\n",
      "-0.26986506746626837\n"
     ]
    }
   ],
   "source": [
    "row = 0\n",
    "for code_r in stock_list.values:           \n",
    "    earn = weekly_earn(code_r[0], '20210614', '20210618')\n",
    "    print(earn[0])\n",
    "    #weekly_selected.incert(row,'earn_nextweek',earn[0])\n",
    "    #row += 1\n",
    "    #time.sleep(0.3)"
   ]
  },
  {
   "cell_type": "code",
   "execution_count": 3,
   "metadata": {},
   "outputs": [
    {
     "name": "stdout",
     "output_type": "stream",
     "text": [
      "          code attitude reason  earn_nextweek\n",
      "0    000002.SZ      NaN    NaN      -0.824176\n",
      "1    000032.SZ      NaN    NaN            NaN\n",
      "2    000036.SZ      NaN    NaN            NaN\n",
      "3    000157.SZ      NaN    NaN            NaN\n",
      "4    000338.SZ      NaN    NaN            NaN\n",
      "..         ...      ...    ...            ...\n",
      "147  300967.SZ        x    new            NaN\n",
      "148  300977.SZ        x    new            NaN\n",
      "149  300979.SZ        x    new            NaN\n",
      "150  300980.SZ        x    new            NaN\n",
      "151  300983.SZ        x    new            NaN\n",
      "\n",
      "[152 rows x 4 columns]\n"
     ]
    }
   ],
   "source": [
    "print(weekly_selected)"
   ]
  },
  {
   "cell_type": "code",
   "execution_count": 3,
   "metadata": {},
   "outputs": [
    {
     "data": {
      "text/plain": [
       "Index(['code', 'attitude', 'reason', 'earn_nextweek'], dtype='object')"
      ]
     },
     "execution_count": 3,
     "metadata": {},
     "output_type": "execute_result"
    }
   ],
   "source": [
    "weekly_selected.columns"
   ]
  },
  {
   "cell_type": "code",
   "execution_count": 8,
   "metadata": {},
   "outputs": [
    {
     "data": {
      "text/plain": [
       "-0.8241758241758212"
      ]
     },
     "execution_count": 8,
     "metadata": {},
     "output_type": "execute_result"
    }
   ],
   "source": [
    "earn[0]"
   ]
  },
  {
   "cell_type": "code",
   "execution_count": null,
   "metadata": {},
   "outputs": [],
   "source": []
  }
 ],
 "metadata": {
  "kernelspec": {
   "display_name": "Python 3",
   "language": "python",
   "name": "python3"
  },
  "language_info": {
   "codemirror_mode": {
    "name": "ipython",
    "version": 3
   },
   "file_extension": ".py",
   "mimetype": "text/x-python",
   "name": "python",
   "nbconvert_exporter": "python",
   "pygments_lexer": "ipython3",
   "version": "3.6.12"
  }
 },
 "nbformat": 4,
 "nbformat_minor": 4
}
