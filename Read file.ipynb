{
 "cells": [
  {
   "cell_type": "code",
   "execution_count": 3,
   "metadata": {},
   "outputs": [],
   "source": [
    "import pandas as pd\n",
    "import tushare as ts\n",
    "pro = ts.pro_api()\n",
    "\n",
    "weekly_selected = pd.read_csv (r'data\\june18 weekly.csv')\n",
    "stock_list = weekly_selected[['code']]\n",
    "def weekly_earn(code,st_date,En_date):\n",
    "    df = pro.weekly(ts_code = code, adj = 'qfq', start_date = st_date, end_date = En_date)\n",
    "    earn = (df.close / df.open - 1)*100\n",
    "    return earn"
   ]
  },
  {
   "cell_type": "code",
   "execution_count": null,
   "metadata": {},
   "outputs": [],
   "source": [
    "row = 0\n",
    "for code_r in stock_list.values:           \n",
    "    earn = weekly_earn(code_r[0], '20210621', '20210625')\n",
    "    print(earn[0])\n",
    "    #weekly_selected.incert(row,'earn_nextweek',earn[0])\n",
    "    #row += 1\n",
    "    #time.sleep(0.3)"
   ]
  },
  {
   "cell_type": "code",
   "execution_count": null,
   "metadata": {},
   "outputs": [],
   "source": [
    "print(weekly_selected)"
   ]
  },
  {
   "cell_type": "code",
   "execution_count": 3,
   "metadata": {},
   "outputs": [
    {
     "data": {
      "text/plain": [
       "Index(['code', 'attitude', 'reason', 'earn_nextweek'], dtype='object')"
      ]
     },
     "execution_count": 3,
     "metadata": {},
     "output_type": "execute_result"
    }
   ],
   "source": [
    "weekly_selected.columns"
   ]
  },
  {
   "cell_type": "code",
   "execution_count": 8,
   "metadata": {},
   "outputs": [
    {
     "data": {
      "text/plain": [
       "-0.8241758241758212"
      ]
     },
     "execution_count": 8,
     "metadata": {},
     "output_type": "execute_result"
    }
   ],
   "source": [
    "earn[0]"
   ]
  },
  {
   "cell_type": "code",
   "execution_count": null,
   "metadata": {},
   "outputs": [],
   "source": []
  }
 ],
 "metadata": {
  "kernelspec": {
   "display_name": "Python 3",
   "language": "python",
   "name": "python3"
  },
  "language_info": {
   "codemirror_mode": {
    "name": "ipython",
    "version": 3
   },
   "file_extension": ".py",
   "mimetype": "text/x-python",
   "name": "python",
   "nbconvert_exporter": "python",
   "pygments_lexer": "ipython3",
   "version": "3.6.12"
  }
 },
 "nbformat": 4,
 "nbformat_minor": 4
}
